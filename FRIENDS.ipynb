{
 "cells": [
  {
   "cell_type": "markdown",
   "metadata": {},
   "source": [
    "# FRIENDS CLASSIFICATION"
   ]
  },
  {
   "cell_type": "code",
   "execution_count": 1,
   "metadata": {},
   "outputs": [
    {
     "name": "stderr",
     "output_type": "stream",
     "text": [
      "Using TensorFlow backend.\n"
     ]
    }
   ],
   "source": [
    "import wget\n",
    "import cv2\n",
    "import numpy as np\n",
    "import matplotlib.pyplot as plt\n",
    "import os\n",
    "import tensorflow as tf\n",
    "config =tf.compat.v1.ConfigProto()\n",
    "config.gpu_options.allow_growth = True\n",
    "sess = tf.compat.v1.Session(config=config)\n",
    "import pickle\n",
    "from tensorflow.keras.preprocessing.image import ImageDataGenerator\n",
    "import sys\n",
    "import PIL\n",
    "from PIL import Image\n",
    "from glob import glob\n",
    "from keras.models import Sequential\n",
    "from keras.layers import Input,Lambda,Dense,Flatten\n",
    "from keras.layers import Dropout\n",
    "from tensorflow.keras.models import Model\n",
    "from tensorflow.keras import layers\n",
    "from keras import regularizers\n",
    "from tensorflow.keras.optimizers import RMSprop\n",
    "from sklearn.model_selection import train_test_split\n",
    "sys.modules['Image'] = Image\n",
    "\n",
    "\n",
    "DATADIR =r\"C:\\Users\\CHINMAY\\Desktop\\hackerearth\\Dataset\\DATASETS\\Train data\"\n",
    "VALDIR=r\"C:\\Users\\CHINMAY\\Desktop\\validation_dir\"\n"
   ]
  },
  {
   "cell_type": "markdown",
   "metadata": {},
   "source": [
    "# MODEL CREATION"
   ]
  },
  {
   "cell_type": "code",
   "execution_count": 2,
   "metadata": {},
   "outputs": [
    {
     "name": "stdout",
     "output_type": "stream",
     "text": [
      "Found 810 images belonging to 3 classes.\n",
      "Found 104 images belonging to 3 classes.\n"
     ]
    }
   ],
   "source": [
    "IMG_SIZE=50\n",
    "\n",
    "model = tf.keras.models.Sequential([\n",
    "    # 1st CONVOLUTIONAL LAYER\n",
    "    \n",
    "    tf.keras.layers.Conv2D((16),(3,3),activation='relu',input_shape=(IMG_SIZE,IMG_SIZE,3),padding='same'),\n",
    "    tf.keras.layers.MaxPooling2D(2,2),\n",
    "    \n",
    "    # 2nd CONVOLUTIONAL LAYER\n",
    "    \n",
    "    tf.keras.layers.Conv2D((32),(3,3),activation='relu',padding='same'),\n",
    "    tf.keras.layers.MaxPooling2D(2,2),\n",
    "    \n",
    "    # 3rd CONVOLUTIONAL LAYER\n",
    "    \n",
    "    tf.keras.layers.Conv2D((64),(3,3),activation='relu',padding='same'),\n",
    "    tf.keras.layers.MaxPooling2D(2,2),\n",
    "    \n",
    "    # DEEP NEURAL NETWORK\n",
    "    \n",
    "    tf.keras.layers.Flatten(),\n",
    "    tf.keras.layers.Dense((512),activation='relu'),\n",
    "    tf.keras.layers.Dropout(0.2),\n",
    "    tf.keras.layers.BatchNormalization(),\n",
    "    tf.keras.layers.Dense((256),activation='relu'),\n",
    "    tf.keras.layers.Dropout(0.2),\n",
    "    tf.keras.layers.Dense((128),activation='relu'),\n",
    "    tf.keras.layers.Dropout(0.2),\n",
    "    tf.keras.layers.Dense(3,activation='softmax')\n",
    "])\n",
    "\n",
    "\n",
    "model.compile(loss='sparse_categorical_crossentropy',\n",
    "             optimizer='adam',\n",
    "             metrics=['accuracy'])\n",
    "\n",
    "\n",
    "\n",
    "\n",
    "train_datagen=ImageDataGenerator(rescale = 1./255.,\n",
    "    rotation_range = 40,\n",
    "    width_shift_range = 0.2,\n",
    "    height_shift_range = 0.2,\n",
    "    shear_range = 0.2,\n",
    "    zoom_range = 0.2,\n",
    "    horizontal_flip = True)\n",
    "train_generator = train_datagen.flow_from_directory(DATADIR,\n",
    "                         target_size=(50,50),\n",
    "                         batch_size=64,\n",
    "                         class_mode='sparse')\n",
    "\n",
    "\n",
    "val_datagen=ImageDataGenerator(rescale=1./255)\n",
    "val_generator = val_datagen.flow_from_directory(\n",
    "                   VALDIR,\n",
    "                   target_size=(50,50),\n",
    "                   batch_size=64,\n",
    "                   class_mode='sparse')\n",
    "\n"
   ]
  },
  {
   "cell_type": "markdown",
   "metadata": {},
   "source": [
    "# TRAINING"
   ]
  },
  {
   "cell_type": "code",
   "execution_count": 3,
   "metadata": {},
   "outputs": [
    {
     "name": "stdout",
     "output_type": "stream",
     "text": [
      "Epoch 1/20\n",
      "13/13 [==============================] - 3s 256ms/step - loss: 1.1474 - accuracy: 0.3901 - val_loss: 1.1683 - val_accuracy: 0.3365\n",
      "Epoch 2/20\n",
      "13/13 [==============================] - 2s 165ms/step - loss: 1.0144 - accuracy: 0.4877 - val_loss: 1.1631 - val_accuracy: 0.3365\n",
      "Epoch 3/20\n",
      "13/13 [==============================] - 2s 166ms/step - loss: 0.9538 - accuracy: 0.5395 - val_loss: 1.1001 - val_accuracy: 0.2981\n",
      "Epoch 4/20\n",
      "13/13 [==============================] - 2s 180ms/step - loss: 0.9326 - accuracy: 0.5543 - val_loss: 1.1131 - val_accuracy: 0.3558\n",
      "Epoch 5/20\n",
      "13/13 [==============================] - 2s 169ms/step - loss: 0.8891 - accuracy: 0.5580 - val_loss: 1.0891 - val_accuracy: 0.4038\n",
      "Epoch 6/20\n",
      "13/13 [==============================] - 2s 175ms/step - loss: 0.8790 - accuracy: 0.5926 - val_loss: 1.1153 - val_accuracy: 0.3654\n",
      "Epoch 7/20\n",
      "13/13 [==============================] - 2s 164ms/step - loss: 0.8688 - accuracy: 0.5889 - val_loss: 1.1071 - val_accuracy: 0.3365\n",
      "Epoch 8/20\n",
      "13/13 [==============================] - 2s 167ms/step - loss: 0.8738 - accuracy: 0.5951 - val_loss: 1.0963 - val_accuracy: 0.3462\n",
      "Epoch 9/20\n",
      "13/13 [==============================] - 2s 165ms/step - loss: 0.8514 - accuracy: 0.5926 - val_loss: 1.0954 - val_accuracy: 0.3269\n",
      "Epoch 10/20\n",
      "13/13 [==============================] - 2s 174ms/step - loss: 0.8705 - accuracy: 0.5827 - val_loss: 1.1061 - val_accuracy: 0.4038\n",
      "Epoch 11/20\n",
      "13/13 [==============================] - 2s 173ms/step - loss: 0.8406 - accuracy: 0.6099 - val_loss: 1.1253 - val_accuracy: 0.3173\n",
      "Epoch 12/20\n",
      "13/13 [==============================] - 2s 167ms/step - loss: 0.7774 - accuracy: 0.6457 - val_loss: 1.1991 - val_accuracy: 0.3077\n",
      "Epoch 13/20\n",
      "13/13 [==============================] - 2s 176ms/step - loss: 0.8139 - accuracy: 0.6469 - val_loss: 1.1584 - val_accuracy: 0.4135\n",
      "Epoch 14/20\n",
      "13/13 [==============================] - 2s 174ms/step - loss: 0.8217 - accuracy: 0.6284 - val_loss: 1.1222 - val_accuracy: 0.3750\n",
      "Epoch 15/20\n",
      "13/13 [==============================] - 2s 182ms/step - loss: 0.8019 - accuracy: 0.6185 - val_loss: 1.1530 - val_accuracy: 0.2981\n",
      "Epoch 16/20\n",
      "13/13 [==============================] - 2s 169ms/step - loss: 0.7765 - accuracy: 0.6457 - val_loss: 1.1761 - val_accuracy: 0.3365\n",
      "Epoch 17/20\n",
      "13/13 [==============================] - 2s 174ms/step - loss: 0.7607 - accuracy: 0.6790 - val_loss: 1.2008 - val_accuracy: 0.3365\n",
      "Epoch 18/20\n",
      "13/13 [==============================] - 2s 181ms/step - loss: 0.7542 - accuracy: 0.6642 - val_loss: 1.1537 - val_accuracy: 0.3269\n",
      "Epoch 19/20\n",
      "13/13 [==============================] - 2s 171ms/step - loss: 0.7298 - accuracy: 0.6852 - val_loss: 1.3567 - val_accuracy: 0.3365\n",
      "Epoch 20/20\n",
      "13/13 [==============================] - 2s 172ms/step - loss: 0.6933 - accuracy: 0.6901 - val_loss: 1.2110 - val_accuracy: 0.2788\n"
     ]
    }
   ],
   "source": [
    "history= model.fit_generator(train_generator,epochs=20,validation_data=val_generator)"
   ]
  },
  {
   "cell_type": "markdown",
   "metadata": {},
   "source": [
    "# PLOTTING"
   ]
  },
  {
   "cell_type": "code",
   "execution_count": 7,
   "metadata": {},
   "outputs": [
    {
     "data": {
      "text/plain": [
       "<matplotlib.legend.Legend at 0x27a0b905e88>"
      ]
     },
     "execution_count": 7,
     "metadata": {},
     "output_type": "execute_result"
    },
    {
     "data": {
      "image/png": "[encoded data removed]",
      "text/plain": [
       "<Figure size 432x288 with 1 Axes>"
      ]
     },
     "metadata": {
      "needs_background": "light"
     },
     "output_type": "display_data"
    },
    {
     "data": {
      "image/png": "[encoded data removed]",
      "text/plain": [
       "<Figure size 432x288 with 1 Axes>"
      ]
     },
     "metadata": {
      "needs_background": "light"
     },
     "output_type": "display_data"
    }
   ],
   "source": [
    "acc      = history.history[     'accuracy' ]\n",
    "val_acc  = history.history[ 'val_accuracy' ]\n",
    "loss     = history.history[    'loss' ]\n",
    "val_loss = history.history['val_loss' ]\n",
    "\n",
    "epochs   = range(len(acc)) # Get number of epochs\n",
    "\n",
    "#------------------------------------------------\n",
    "# Plot training and validation accuracy per epoch\n",
    "#------------------------------------------------\n",
    "plt.xlabel('Epochs')\n",
    "plt.ylabel('Accuracy')\n",
    "plt.plot  ( epochs,     acc ,'r', label= 'Training Accuracy')\n",
    "plt.plot  ( epochs, val_acc, label='Validation accuracy' )\n",
    "plt.title ('Training and validation accuracy')\n",
    "plt.legend()\n",
    "plt.figure()\n",
    "\n",
    "#------------------------------------------------\n",
    "# Plot training and validation loss per epoch\n",
    "#------------------------------------------------\n",
    "plt.xlabel('Epochs')\n",
    "plt.ylabel('Loss')\n",
    "plt.plot  ( epochs,     loss ,'r', label= 'Training Loss' )\n",
    "plt.plot  ( epochs, val_loss , label= 'Validation Loss')\n",
    "plt.title ('Training and validation loss'   )\n",
    "plt.legend()"
   ]
  },
  {
   "cell_type": "markdown",
   "metadata": {},
   "source": [
    "# PREDICTION"
   ]
  },
  {
   "cell_type": "code",
   "execution_count": 6,
   "metadata": {},
   "outputs": [
    {
     "name": "stdout",
     "output_type": "stream",
     "text": [
      "2 toddlers\n"
     ]
    }
   ],
   "source": [
    "model.save=(\"fr.h5\")\n",
    "\n",
    "\n",
    "results={\n",
    "   0:'adults',\n",
    "   1:'teen',\n",
    "   2:'toddlers',\n",
    "   \n",
    "}\n",
    "\n",
    "\n",
    "from PIL import Image\n",
    "import numpy as np\n",
    "im=Image.open(r\"C:\\Users\\CHINMAY\\Desktop\\hackerearth\\Dataset\\DATASETS\\Train data\\adults\\2Q__ (12).jpg\")\n",
    "# the input image is required to be in the shape of dataset, i.e (32,32,3)\n",
    "#im = tf.cast(im, tf.float32)\n",
    "im=im.resize((50,50))\n",
    "im=np.expand_dims(im,axis=0)\n",
    "im=np.array(im)\n",
    "im= tf.convert_to_tensor(im,dtype=tf.float16)\n",
    "pred=model.predict_classes([im])[0]\n",
    "print(pred,results[pred])\n",
    "\n"
   ]
  }
 ],
 "metadata": {
  "kernelspec": {
   "display_name": "Python 3",
   "language": "python",
   "name": "python3"
  },
  "language_info": {
   "codemirror_mode": {
    "name": "ipython",
    "version": 3
   },
   "file_extension": ".py",
   "mimetype": "text/x-python",
   "name": "python",
   "nbconvert_exporter": "python",
   "pygments_lexer": "ipython3",
   "version": "3.7.7"
  }
 },
 "nbformat": 4,
 "nbformat_minor": 4
}
